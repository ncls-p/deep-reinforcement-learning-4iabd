{
 "cells": [
  {
   "cell_type": "code",
   "execution_count": 1,
   "metadata": {},
   "outputs": [
    {
     "name": "stderr",
     "output_type": "stream",
     "text": [
      "100%|██████████| 10000/10000 [00:04<00:00, 2293.96it/s]"
     ]
    },
    {
     "name": "stdout",
     "output_type": "stream",
     "text": [
      "True\n",
      "_____\n",
      "O____\n",
      "OX___\n",
      "OXO__\n",
      "OXOO_\n",
      "OXOOO\n",
      "Final Score: 0.0\n"
     ]
    },
    {
     "name": "stderr",
     "output_type": "stream",
     "text": [
      "\n"
     ]
    }
   ],
   "source": [
    "import pickle\n",
    "from env import MontyHallLvl2\n",
    "import monte_carlo\n",
    "\n",
    "\n",
    "# Example usage\n",
    "env_type = MontyHallLvl2  # Replace with your environment class\n",
    "gamma = 0.999\n",
    "nb_iter = 10000\n",
    "max_steps = 10\n",
    "epsilon = 0.1\n",
    "\n",
    "Pi = monte_carlo.on_policy_first_visit_mc_control(\n",
    "    env_type, gamma, nb_iter, max_steps, epsilon\n",
    ")\n",
    "\n",
    "# Save the policy, value function, and action-value function\n",
    "with open(\"./pckl/policy.pkl\", \"wb\") as f:\n",
    "    pickle.dump(Pi, f)\n",
    "\n",
    "# Load the policy, value function, and action-value function\n",
    "with open(\"./pckl/policy.pkl\", \"rb\") as f:\n",
    "    Pi_loaded = pickle.load(f)\n",
    "# Verify loaded data\n",
    "print(Pi_loaded == Pi)  # Should print True\n",
    "\n",
    "# Execute the loaded policy in the environment\n",
    "def run_policy(env_type, Pi, max_steps):\n",
    "    env = env_type()  # Initialize the environment\n",
    "    env.reset()\n",
    "    env.display()\n",
    "    steps_count = 0\n",
    "\n",
    "    while not env.is_game_over() and steps_count < max_steps:\n",
    "        s = env.state_id()\n",
    "        if s in Pi:\n",
    "            a = Pi[s]\n",
    "            env.step(a)\n",
    "            env.display()\n",
    "            steps_count += 1\n",
    "        else:\n",
    "            print(\"State not found in policy:\", s)\n",
    "            break\n",
    "\n",
    "    print(\"Final Score:\", env.score())\n",
    "\n",
    "\n",
    "# Run the loaded policy in the environment\n",
    "run_policy(env_type, Pi_loaded, max_steps)\n"
   ]
  }
 ],
 "metadata": {
  "kernelspec": {
   "display_name": ".venv",
   "language": "python",
   "name": "python3"
  },
  "language_info": {
   "codemirror_mode": {
    "name": "ipython",
    "version": 3
   },
   "file_extension": ".py",
   "mimetype": "text/x-python",
   "name": "python",
   "nbconvert_exporter": "python",
   "pygments_lexer": "ipython3",
   "version": "3.12.1"
  }
 },
 "nbformat": 4,
 "nbformat_minor": 2
}
