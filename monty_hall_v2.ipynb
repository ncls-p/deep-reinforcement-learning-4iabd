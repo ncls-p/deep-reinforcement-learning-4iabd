{
 "cells": [
  {
   "cell_type": "code",
   "execution_count": 1,
   "metadata": {},
   "outputs": [
    {
     "name": "stderr",
     "output_type": "stream",
     "text": [
      "100%|██████████| 10000/10000 [00:04<00:00, 2245.58it/s]\n"
     ]
    }
   ],
   "source": [
    "import pickle\n",
    "from env import MontyHallLvl2\n",
    "from monte_carlo import on_policy_first_visit_mc_control\n",
    "\n",
    "\n",
    "# Example usage\n",
    "env_type = MontyHallLvl2  # Replace with your environment class\n",
    "gamma = 0.999\n",
    "nb_iter = 10000\n",
    "max_steps = 10\n",
    "epsilon = 0.1\n",
    "\n",
    "Pi = on_policy_first_visit_mc_control(\n",
    "    env_type, gamma, nb_iter, max_steps, epsilon\n",
    ")\n",
    "\n",
    "with open(\"./pckl/monty_hall_v2/on_policy_first_visit_mc_control.pkl\", \"wb\") as f:\n",
    "    pickle.dump(Pi, f)"
   ]
  },
  {
   "cell_type": "code",
   "execution_count": 2,
   "metadata": {},
   "outputs": [
    {
     "name": "stderr",
     "output_type": "stream",
     "text": [
      "  0%|          | 0/10000 [00:00<?, ?it/s]\n"
     ]
    },
    {
     "ename": "ValueError",
     "evalue": "'a' cannot be empty unless no samples are taken",
     "output_type": "error",
     "traceback": [
      "\u001b[0;31m---------------------------------------------------------------------------\u001b[0m",
      "\u001b[0;31mValueError\u001b[0m                                Traceback (most recent call last)",
      "Cell \u001b[0;32mIn[2], line 13\u001b[0m\n\u001b[1;32m     10\u001b[0m max_steps \u001b[38;5;241m=\u001b[39m \u001b[38;5;241m10\u001b[39m\n\u001b[1;32m     11\u001b[0m epsilon \u001b[38;5;241m=\u001b[39m \u001b[38;5;241m0.1\u001b[39m\n\u001b[0;32m---> 13\u001b[0m Pi \u001b[38;5;241m=\u001b[39m \u001b[43moff_policy_mc_control\u001b[49m\u001b[43m(\u001b[49m\n\u001b[1;32m     14\u001b[0m \u001b[43m    \u001b[49m\u001b[43menv_type\u001b[49m\u001b[43m,\u001b[49m\u001b[43m \u001b[49m\u001b[43mgamma\u001b[49m\u001b[43m,\u001b[49m\u001b[43m \u001b[49m\u001b[43mnb_iter\u001b[49m\u001b[43m,\u001b[49m\u001b[43m \u001b[49m\u001b[43mmax_steps\u001b[49m\u001b[43m,\u001b[49m\u001b[43m \u001b[49m\u001b[43mepsilon\u001b[49m\n\u001b[1;32m     15\u001b[0m \u001b[43m)\u001b[49m\n\u001b[1;32m     17\u001b[0m \u001b[38;5;28;01mwith\u001b[39;00m \u001b[38;5;28mopen\u001b[39m(\u001b[38;5;124m\"\u001b[39m\u001b[38;5;124m./pckl/monty_hall_v2/off_policy_mc_control.pkl\u001b[39m\u001b[38;5;124m\"\u001b[39m, \u001b[38;5;124m\"\u001b[39m\u001b[38;5;124mwb\u001b[39m\u001b[38;5;124m\"\u001b[39m) \u001b[38;5;28;01mas\u001b[39;00m f:\n\u001b[1;32m     18\u001b[0m     pickle\u001b[38;5;241m.\u001b[39mdump(Pi, f)\n",
      "File \u001b[0;32m~/work/esgi/4IABD/deep-reinforcement-learning/deep-reinforcement-learning-4iabd/monte_carlo.py:149\u001b[0m, in \u001b[0;36moff_policy_mc_control\u001b[0;34m(env_type, gamma, nb_iter, max_steps, epsilon)\u001b[0m\n\u001b[1;32m    147\u001b[0m C[s][a] \u001b[38;5;241m+\u001b[39m\u001b[38;5;241m=\u001b[39m W\n\u001b[1;32m    148\u001b[0m Q[s][a] \u001b[38;5;241m+\u001b[39m\u001b[38;5;241m=\u001b[39m (W \u001b[38;5;241m/\u001b[39m C[s][a]) \u001b[38;5;241m*\u001b[39m (G \u001b[38;5;241m-\u001b[39m Q[s][a])\n\u001b[0;32m--> 149\u001b[0m \u001b[38;5;28;01mif\u001b[39;00m a \u001b[38;5;241m!=\u001b[39m \u001b[43mtarget_policy\u001b[49m\u001b[43m(\u001b[49m\u001b[43ms\u001b[49m\u001b[43m)\u001b[49m:\n\u001b[1;32m    150\u001b[0m     \u001b[38;5;28;01mbreak\u001b[39;00m\n\u001b[1;32m    151\u001b[0m W \u001b[38;5;241m*\u001b[39m\u001b[38;5;241m=\u001b[39m \u001b[38;5;241m1.0\u001b[39m \u001b[38;5;241m/\u001b[39m (\n\u001b[1;32m    152\u001b[0m     epsilon \u001b[38;5;241m/\u001b[39m \u001b[38;5;28mlen\u001b[39m(env\u001b[38;5;241m.\u001b[39mavailable_actions()) \u001b[38;5;241m+\u001b[39m (\u001b[38;5;241m1\u001b[39m \u001b[38;5;241m-\u001b[39m epsilon)\n\u001b[1;32m    153\u001b[0m     \u001b[38;5;28;01mif\u001b[39;00m a \u001b[38;5;241m==\u001b[39m target_policy(s)\n\u001b[1;32m    154\u001b[0m     \u001b[38;5;28;01melse\u001b[39;00m \u001b[38;5;241m0\u001b[39m\n\u001b[1;32m    155\u001b[0m )\n",
      "File \u001b[0;32m~/work/esgi/4IABD/deep-reinforcement-learning/deep-reinforcement-learning-4iabd/monte_carlo.py:128\u001b[0m, in \u001b[0;36moff_policy_mc_control.<locals>.target_policy\u001b[0;34m(state)\u001b[0m\n\u001b[1;32m    124\u001b[0m \u001b[38;5;28;01mdef\u001b[39;00m \u001b[38;5;21mtarget_policy\u001b[39m(state):\n\u001b[1;32m    125\u001b[0m     \u001b[38;5;28;01mreturn\u001b[39;00m \u001b[38;5;28mmax\u001b[39m(\n\u001b[1;32m    126\u001b[0m         Q[state],\n\u001b[1;32m    127\u001b[0m         key\u001b[38;5;241m=\u001b[39mQ[state]\u001b[38;5;241m.\u001b[39mget,\n\u001b[0;32m--> 128\u001b[0m         default\u001b[38;5;241m=\u001b[39m\u001b[43mnp\u001b[49m\u001b[38;5;241;43m.\u001b[39;49m\u001b[43mrandom\u001b[49m\u001b[38;5;241;43m.\u001b[39;49m\u001b[43mchoice\u001b[49m\u001b[43m(\u001b[49m\u001b[43menv\u001b[49m\u001b[38;5;241;43m.\u001b[39;49m\u001b[43mavailable_actions\u001b[49m\u001b[43m(\u001b[49m\u001b[43m)\u001b[49m\u001b[43m)\u001b[49m,\n\u001b[1;32m    129\u001b[0m     )\n",
      "File \u001b[0;32mnumpy/random/mtrand.pyx:974\u001b[0m, in \u001b[0;36mnumpy.random.mtrand.RandomState.choice\u001b[0;34m()\u001b[0m\n",
      "\u001b[0;31mValueError\u001b[0m: 'a' cannot be empty unless no samples are taken"
     ]
    }
   ],
   "source": [
    "import pickle\n",
    "from env import MontyHallLvl2\n",
    "from monte_carlo import off_policy_mc_control\n",
    "\n",
    "\n",
    "# Example usage\n",
    "env_type = MontyHallLvl2  # Replace with your environment class\n",
    "gamma = 0.999\n",
    "nb_iter = 10000\n",
    "max_steps = 10\n",
    "epsilon = 0.1\n",
    "\n",
    "Pi = off_policy_mc_control(\n",
    "    env_type, gamma, nb_iter, max_steps, epsilon\n",
    ")\n",
    "\n",
    "with open(\"./pckl/monty_hall_v2/off_policy_mc_control.pkl\", \"wb\") as f:\n",
    "    pickle.dump(Pi, f)"
   ]
  },
  {
   "cell_type": "code",
   "execution_count": 3,
   "metadata": {},
   "outputs": [
    {
     "name": "stderr",
     "output_type": "stream",
     "text": [
      "100%|██████████| 10000/10000 [00:01<00:00, 5356.65it/s]\n"
     ]
    }
   ],
   "source": [
    "import pickle\n",
    "from env import MontyHallLvl2\n",
    "from monte_carlo import naive_monte_carlo_with_exploring_starts\n",
    "\n",
    "\n",
    "# Example usage\n",
    "env_type = MontyHallLvl2  # Replace with your environment class\n",
    "gamma = 0.999\n",
    "nb_iter = 10000\n",
    "max_steps = 10\n",
    "\n",
    "Pi = naive_monte_carlo_with_exploring_starts(\n",
    "    env_type, gamma, nb_iter, max_steps\n",
    ")\n",
    "\n",
    "with open(\"./pckl/monty_hall_v2/naive_monte_carlo_with_exploring_starts.pkl\", \"wb\") as f:\n",
    "    pickle.dump(Pi, f)"
   ]
  },
  {
   "cell_type": "code",
   "execution_count": null,
   "metadata": {},
   "outputs": [],
   "source": [
    "import pickle\n",
    "from dynamic_programming import ValueIteration\n",
    "from env import MontyHallLvl2\n",
    "\n",
    "gamma = 0.999\n",
    "theta = 1e-6\n",
    "max_iterations = 1000\n",
    "env = MontyHallLvl2()\n",
    "\n",
    "agent = ValueIteration(env, gamma=gamma, theta=theta, max_iterations=max_iterations)\n",
    "best_policy = agent.run()\n",
    "\n",
    "print(\"Best policy:\")\n",
    "with open(\"./pckl/monty_hall_v2/value_iteration.pkl\", \"wb\") as f:\n",
    "    pickle.dump(best_policy, f)"
   ]
  },
  {
   "cell_type": "code",
   "execution_count": null,
   "metadata": {},
   "outputs": [],
   "source": [
    "import pickle\n",
    "from dynamic_programming import PolicyIteration\n",
    "from env import MontyHallLvl2\n",
    "gamma = 0.999\n",
    "theta = 1e-6\n",
    "max_iterations = 1000\n",
    "env = MontyHallLvl2()\n",
    "\n",
    "agent = PolicyIteration(env, gamma=gamma, theta=theta, max_iterations=max_iterations)\n",
    "best_policy = agent.run()\n",
    "\n",
    "print(\"Best policy:\")\n",
    "with open(\"./pckl/monty_hall_v2/volicyalue_iteration.pkl\", \"wb\") as f:\n",
    "    pickle.dump(best_policy, f)"
   ]
  },
  {
   "cell_type": "code",
   "execution_count": null,
   "metadata": {},
   "outputs": [],
   "source": [
    "from temporal_difference_learning import Sarsa\n",
    "\n",
    "alpha = 0.1\n",
    "num_episodes = 1000\n",
    "sarsa_agent = Sarsa(\n",
    "    env, alpha=alpha, gamma=gamma, epsilon=epsilon, num_episodes=num_episodes\n",
    ")\n",
    "best_policy = sarsa_agent.train()\n",
    "# save the policy\n",
    "with open(\"./pckl/monty_hall_v2/sarsa.pkl\", \"wb\") as f:\n",
    "    pickle.dump(best_policy, f)"
   ]
  },
  {
   "cell_type": "code",
   "execution_count": null,
   "metadata": {},
   "outputs": [],
   "source": [
    "from planning import QLearning\n",
    "\n",
    "alpha = 0.1\n",
    "num_episodes = 1000\n",
    "q_learning = QLearning(env, alpha=alpha, gamma=gamma, epsilon=epsilon)\n",
    "\n",
    "q_learning.train(num_episodes)\n",
    "\n",
    "print(\"Table Q apprise par Q-Learning:\")\n",
    "print(q_learning.get_q_table())\n",
    "\n",
    "# save the policy\n",
    "with open(\"./pckl/monty_hall_v2/q_learning.pkl\", \"wb\") as f:\n",
    "    pickle.dump(q_learning.get_q_table(), f)"
   ]
  },
  {
   "cell_type": "code",
   "execution_count": null,
   "metadata": {},
   "outputs": [],
   "source": [
    "from planning import DynaQ\n",
    "\n",
    "agent = DynaQ(env, alpha=0.1, gamma=0.95, epsilon=0.1, dyna_planning_steps=10)\n",
    "\n",
    "initial_state = env.state_id()\n",
    "num_episodes = 1000\n",
    "best_policy = agent.train(num_episodes)\n",
    "print(\"Best policy:\")\n",
    "with open(\"./pckl/monty_hall_v2/dyna_q.pkl\", \"wb\") as f:\n",
    "    pickle.dump(best_policy, f)"
   ]
  }
 ],
 "metadata": {
  "kernelspec": {
   "display_name": ".venv",
   "language": "python",
   "name": "python3"
  },
  "language_info": {
   "codemirror_mode": {
    "name": "ipython",
    "version": 3
   },
   "file_extension": ".py",
   "mimetype": "text/x-python",
   "name": "python",
   "nbconvert_exporter": "python",
   "pygments_lexer": "ipython3",
   "version": "3.12.1"
  }
 },
 "nbformat": 4,
 "nbformat_minor": 2
}
