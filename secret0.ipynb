{
 "cells": [
  {
   "cell_type": "code",
   "execution_count": null,
   "metadata": {},
   "outputs": [],
   "source": [
    "import pickle\n",
    "from secret_envs_wrapper import SecretEnv0\n",
    "from monte_carlo import on_policy_first_visit_mc_control\n",
    "\n",
    "\n",
    "# Example usage\n",
    "env_type = SecretEnv0  # Replace with your environment class\n",
    "gamma = 0.999\n",
    "nb_iter = 10000\n",
    "max_steps = 10\n",
    "epsilon = 0.1\n",
    "\n",
    "Pi = on_policy_first_visit_mc_control(\n",
    "    env_type, gamma, nb_iter, max_steps, epsilon\n",
    ")\n",
    "\n",
    "with open(\"./pckl/secret0/on_policy_first_visit_mc_control.pkl\", \"wb\") as f:\n",
    "    pickle.dump(Pi, f)"
   ]
  },
  {
   "cell_type": "code",
   "execution_count": null,
   "metadata": {},
   "outputs": [],
   "source": [
    "import pickle\n",
    "from secret_envs_wrapper import SecretEnv0\n",
    "from monte_carlo import off_policy_mc_control\n",
    "\n",
    "\n",
    "# Example usage\n",
    "env_type = SecretEnv0  # Replace with your environment class\n",
    "gamma = 0.999\n",
    "nb_iter = 10000\n",
    "max_steps = 10\n",
    "epsilon = 0.1\n",
    "\n",
    "Pi = off_policy_mc_control(\n",
    "    env_type, gamma, nb_iter, max_steps, epsilon\n",
    ")\n",
    "\n",
    "with open(\"./pckl/secret0/off_policy_mc_control.pkl\", \"wb\") as f:\n",
    "    pickle.dump(Pi, f)"
   ]
  },
  {
   "cell_type": "code",
   "execution_count": null,
   "metadata": {},
   "outputs": [],
   "source": [
    "import pickle\n",
    "from secret_envs_wrapper import SecretEnv0\n",
    "from monte_carlo import naive_monte_carlo_with_exploring_starts\n",
    "\n",
    "\n",
    "# Example usage\n",
    "env_type = SecretEnv0  # Replace with your environment class\n",
    "gamma = 0.999\n",
    "nb_iter = 10000\n",
    "max_steps = 10\n",
    "\n",
    "Pi = naive_monte_carlo_with_exploring_starts(\n",
    "    env_type, gamma, nb_iter, max_steps\n",
    ")\n",
    "\n",
    "with open(\"./pckl/secret0/naive_monte_carlo_with_exploring_starts.pkl\", \"wb\") as f:\n",
    "    pickle.dump(Pi, f)"
   ]
  },
  {
   "cell_type": "code",
   "execution_count": 5,
   "metadata": {},
   "outputs": [
    {
     "name": "stderr",
     "output_type": "stream",
     "text": [
      "2024-07-24 11:09:35,060 - INFO - Initialized DynamicProgramming with gamma=0.999, theta=1e-06, max_iterations=3\n",
      "2024-07-24 11:09:35,061 - INFO - Starting ValueIteration run\n"
     ]
    },
    {
     "ename": "KeyboardInterrupt",
     "evalue": "",
     "output_type": "error",
     "traceback": [
      "\u001b[0;31m---------------------------------------------------------------------------\u001b[0m",
      "\u001b[0;31mKeyboardInterrupt\u001b[0m                         Traceback (most recent call last)",
      "Cell \u001b[0;32mIn[5], line 11\u001b[0m\n\u001b[1;32m      8\u001b[0m env \u001b[38;5;241m=\u001b[39m SecretEnv0()\n\u001b[1;32m     10\u001b[0m agent \u001b[38;5;241m=\u001b[39m ValueIteration(env, gamma\u001b[38;5;241m=\u001b[39mgamma, theta\u001b[38;5;241m=\u001b[39mtheta, max_iterations\u001b[38;5;241m=\u001b[39mmax_iterations)\n\u001b[0;32m---> 11\u001b[0m best_policy \u001b[38;5;241m=\u001b[39m \u001b[43magent\u001b[49m\u001b[38;5;241;43m.\u001b[39;49m\u001b[43mrun\u001b[49m\u001b[43m(\u001b[49m\u001b[43m)\u001b[49m\n\u001b[1;32m     13\u001b[0m \u001b[38;5;28mprint\u001b[39m(\u001b[38;5;124m\"\u001b[39m\u001b[38;5;124mBest policy:\u001b[39m\u001b[38;5;124m\"\u001b[39m)\n\u001b[1;32m     14\u001b[0m \u001b[38;5;28;01mwith\u001b[39;00m \u001b[38;5;28mopen\u001b[39m(\u001b[38;5;124m\"\u001b[39m\u001b[38;5;124m./pckl/secret0/value_iteration.pkl\u001b[39m\u001b[38;5;124m\"\u001b[39m, \u001b[38;5;124m\"\u001b[39m\u001b[38;5;124mwb\u001b[39m\u001b[38;5;124m\"\u001b[39m) \u001b[38;5;28;01mas\u001b[39;00m f:\n",
      "File \u001b[0;32m~/work/esgi/4IABD/deep-reinforcement-learning/deep-reinforcement-learning-4iabd/dynamic_programming.py:136\u001b[0m, in \u001b[0;36mrun\u001b[0;34m(self)\u001b[0m\n\u001b[1;32m    134\u001b[0m         \u001b[38;5;28;01mbreak\u001b[39;00m\n\u001b[1;32m    135\u001b[0m policy \u001b[38;5;241m=\u001b[39m \u001b[38;5;28mself\u001b[39m\u001b[38;5;241m.\u001b[39mget_best_policy()\n\u001b[0;32m--> 136\u001b[0m \u001b[38;5;28mself\u001b[39m\u001b[38;5;241m.\u001b[39mprint_results(policy)\n\u001b[1;32m    137\u001b[0m \u001b[38;5;28;01mreturn\u001b[39;00m policy\n",
      "File \u001b[0;32m~/work/esgi/4IABD/deep-reinforcement-learning/deep-reinforcement-learning-4iabd/dynamic_programming.py:43\u001b[0m, in \u001b[0;36mDynamicProgramming.one_step_lookahead\u001b[0;34m(self, state)\u001b[0m\n\u001b[1;32m     41\u001b[0m     \u001b[38;5;28;01mfor\u001b[39;00m r \u001b[38;5;129;01min\u001b[39;00m \u001b[38;5;28mrange\u001b[39m(\u001b[38;5;28mself\u001b[39m\u001b[38;5;241m.\u001b[39menv\u001b[38;5;241m.\u001b[39mnum_rewards()):\n\u001b[1;32m     42\u001b[0m         p \u001b[38;5;241m=\u001b[39m \u001b[38;5;28mself\u001b[39m\u001b[38;5;241m.\u001b[39menv\u001b[38;5;241m.\u001b[39mp(state, action, s_next, r)\n\u001b[0;32m---> 43\u001b[0m         value \u001b[38;5;241m+\u001b[39m\u001b[38;5;241m=\u001b[39m p \u001b[38;5;241m*\u001b[39m (\u001b[38;5;28;43mself\u001b[39;49m\u001b[38;5;241;43m.\u001b[39;49m\u001b[43menv\u001b[49m\u001b[38;5;241;43m.\u001b[39;49m\u001b[43mreward\u001b[49m\u001b[43m(\u001b[49m\u001b[43mr\u001b[49m\u001b[43m)\u001b[49m \u001b[38;5;241m+\u001b[39m \u001b[38;5;28mself\u001b[39m\u001b[38;5;241m.\u001b[39mgamma \u001b[38;5;241m*\u001b[39m \u001b[38;5;28mself\u001b[39m\u001b[38;5;241m.\u001b[39mV[s_next])\n\u001b[1;32m     44\u001b[0m action_values[action] \u001b[38;5;241m=\u001b[39m value\n\u001b[1;32m     45\u001b[0m logger\u001b[38;5;241m.\u001b[39mdebug(\u001b[38;5;124mf\u001b[39m\u001b[38;5;124m\"\u001b[39m\u001b[38;5;124mState \u001b[39m\u001b[38;5;132;01m{\u001b[39;00mstate\u001b[38;5;132;01m}\u001b[39;00m\u001b[38;5;124m, Action \u001b[39m\u001b[38;5;132;01m{\u001b[39;00maction\u001b[38;5;132;01m}\u001b[39;00m\u001b[38;5;124m: Value \u001b[39m\u001b[38;5;132;01m{\u001b[39;00mvalue\u001b[38;5;132;01m}\u001b[39;00m\u001b[38;5;124m\"\u001b[39m)\n",
      "File \u001b[0;32m~/work/esgi/4IABD/deep-reinforcement-learning/deep-reinforcement-learning-4iabd/secret_envs_wrapper.py:121\u001b[0m, in \u001b[0;36mSecretEnv0.reward\u001b[0;34m(self, i)\u001b[0m\n\u001b[1;32m    120\u001b[0m \u001b[38;5;28;01mdef\u001b[39;00m \u001b[38;5;21mreward\u001b[39m(\u001b[38;5;28mself\u001b[39m, i: \u001b[38;5;28mint\u001b[39m) \u001b[38;5;241m-\u001b[39m\u001b[38;5;241m>\u001b[39m \u001b[38;5;28mfloat\u001b[39m:\n\u001b[0;32m--> 121\u001b[0m     \u001b[38;5;28;01mreturn\u001b[39;00m \u001b[38;5;28;43mself\u001b[39;49m\u001b[38;5;241;43m.\u001b[39;49m\u001b[43mwrapper\u001b[49m\u001b[38;5;241;43m.\u001b[39;49m\u001b[43mlib\u001b[49m\u001b[38;5;241;43m.\u001b[39;49m\u001b[43msecret_env_0_reward\u001b[49m\u001b[43m(\u001b[49m\u001b[43mi\u001b[49m\u001b[43m)\u001b[49m\n",
      "\u001b[0;31mKeyboardInterrupt\u001b[0m: "
     ]
    }
   ],
   "source": [
    "import pickle\n",
    "from dynamic_programming import ValueIteration\n",
    "from secret_envs_wrapper import SecretEnv0\n",
    "\n",
    "gamma = 0.999\n",
    "theta = 1e-6\n",
    "max_iterations = 3\n",
    "env = SecretEnv0()\n",
    "\n",
    "agent = ValueIteration(env, gamma=gamma, theta=theta, max_iterations=max_iterations)\n",
    "best_policy = agent.run()\n",
    "\n",
    "print(\"Best policy:\")\n",
    "with open(\"./pckl/secret0/value_iteration.pkl\", \"wb\") as f:\n",
    "    pickle.dump(best_policy, f)"
   ]
  },
  {
   "cell_type": "code",
   "execution_count": 4,
   "metadata": {},
   "outputs": [
    {
     "name": "stderr",
     "output_type": "stream",
     "text": [
      "2024-07-24 11:07:04,249 - INFO - Initialized DynamicProgramming with gamma=0.999, theta=1e-06, max_iterations=5\n",
      "2024-07-24 11:07:04,250 - INFO - Initialized PolicyIteration\n",
      "2024-07-24 11:07:04,250 - INFO - Starting PolicyIteration run\n",
      "2024-07-24 11:07:04,250 - INFO - Iteration 1\n",
      "2024-07-24 11:07:04,251 - INFO - Starting policy evaluation\n"
     ]
    },
    {
     "ename": "KeyboardInterrupt",
     "evalue": "",
     "output_type": "error",
     "traceback": [
      "\u001b[0;31m---------------------------------------------------------------------------\u001b[0m",
      "\u001b[0;31mKeyboardInterrupt\u001b[0m                         Traceback (most recent call last)",
      "Cell \u001b[0;32mIn[4], line 10\u001b[0m\n\u001b[1;32m      7\u001b[0m env \u001b[38;5;241m=\u001b[39m SecretEnv0()\n\u001b[1;32m      9\u001b[0m agent \u001b[38;5;241m=\u001b[39m PolicyIteration(env, gamma\u001b[38;5;241m=\u001b[39mgamma, theta\u001b[38;5;241m=\u001b[39mtheta, max_iterations\u001b[38;5;241m=\u001b[39mmax_iterations)\n\u001b[0;32m---> 10\u001b[0m best_policy \u001b[38;5;241m=\u001b[39m \u001b[43magent\u001b[49m\u001b[38;5;241;43m.\u001b[39;49m\u001b[43mrun\u001b[49m\u001b[43m(\u001b[49m\u001b[43m)\u001b[49m\n\u001b[1;32m     12\u001b[0m \u001b[38;5;28mprint\u001b[39m(\u001b[38;5;124m\"\u001b[39m\u001b[38;5;124mBest policy:\u001b[39m\u001b[38;5;124m\"\u001b[39m)\n\u001b[1;32m     13\u001b[0m \u001b[38;5;28;01mwith\u001b[39;00m \u001b[38;5;28mopen\u001b[39m(\u001b[38;5;124m\"\u001b[39m\u001b[38;5;124m./pckl/secret0/volicyalue_iteration.pkl\u001b[39m\u001b[38;5;124m\"\u001b[39m, \u001b[38;5;124m\"\u001b[39m\u001b[38;5;124mwb\u001b[39m\u001b[38;5;124m\"\u001b[39m) \u001b[38;5;28;01mas\u001b[39;00m f:\n",
      "File \u001b[0;32m~/work/esgi/4IABD/deep-reinforcement-learning/deep-reinforcement-learning-4iabd/dynamic_programming.py:120\u001b[0m, in \u001b[0;36mPolicyIteration.run\u001b[0;34m(self)\u001b[0m\n\u001b[1;32m    118\u001b[0m \u001b[38;5;28;01mfor\u001b[39;00m i \u001b[38;5;129;01min\u001b[39;00m \u001b[38;5;28mrange\u001b[39m(\u001b[38;5;28mself\u001b[39m\u001b[38;5;241m.\u001b[39mmax_iterations):\n\u001b[1;32m    119\u001b[0m     logger\u001b[38;5;241m.\u001b[39minfo(\u001b[38;5;124mf\u001b[39m\u001b[38;5;124m\"\u001b[39m\u001b[38;5;124mIteration \u001b[39m\u001b[38;5;132;01m{\u001b[39;00mi\u001b[38;5;241m+\u001b[39m\u001b[38;5;241m1\u001b[39m\u001b[38;5;132;01m}\u001b[39;00m\u001b[38;5;124m\"\u001b[39m)\n\u001b[0;32m--> 120\u001b[0m     \u001b[38;5;28;43mself\u001b[39;49m\u001b[38;5;241;43m.\u001b[39;49m\u001b[43mpolicy_evaluation\u001b[49m\u001b[43m(\u001b[49m\u001b[43m)\u001b[49m\n\u001b[1;32m    121\u001b[0m     \u001b[38;5;28;01mif\u001b[39;00m \u001b[38;5;28mself\u001b[39m\u001b[38;5;241m.\u001b[39mpolicy_improvement():\n\u001b[1;32m    122\u001b[0m         logger\u001b[38;5;241m.\u001b[39minfo(\u001b[38;5;124mf\u001b[39m\u001b[38;5;124m\"\u001b[39m\u001b[38;5;124mPolicyIteration converged after \u001b[39m\u001b[38;5;132;01m{\u001b[39;00mi\u001b[38;5;241m+\u001b[39m\u001b[38;5;241m1\u001b[39m\u001b[38;5;132;01m}\u001b[39;00m\u001b[38;5;124m iterations\u001b[39m\u001b[38;5;124m\"\u001b[39m)\n",
      "File \u001b[0;32m~/work/esgi/4IABD/deep-reinforcement-learning/deep-reinforcement-learning-4iabd/dynamic_programming.py:93\u001b[0m, in \u001b[0;36mPolicyIteration.policy_evaluation\u001b[0;34m(self)\u001b[0m\n\u001b[1;32m     91\u001b[0m     \u001b[38;5;28;01mfor\u001b[39;00m r \u001b[38;5;129;01min\u001b[39;00m \u001b[38;5;28mrange\u001b[39m(\u001b[38;5;28mself\u001b[39m\u001b[38;5;241m.\u001b[39menv\u001b[38;5;241m.\u001b[39mnum_rewards()):\n\u001b[1;32m     92\u001b[0m         p \u001b[38;5;241m=\u001b[39m \u001b[38;5;28mself\u001b[39m\u001b[38;5;241m.\u001b[39menv\u001b[38;5;241m.\u001b[39mp(state, action, s_next, r)\n\u001b[0;32m---> 93\u001b[0m         value \u001b[38;5;241m+\u001b[39m\u001b[38;5;241m=\u001b[39m p \u001b[38;5;241m*\u001b[39m (\u001b[38;5;28;43mself\u001b[39;49m\u001b[38;5;241;43m.\u001b[39;49m\u001b[43menv\u001b[49m\u001b[38;5;241;43m.\u001b[39;49m\u001b[43mreward\u001b[49m\u001b[43m(\u001b[49m\u001b[43mr\u001b[49m\u001b[43m)\u001b[49m \u001b[38;5;241m+\u001b[39m \u001b[38;5;28mself\u001b[39m\u001b[38;5;241m.\u001b[39mgamma \u001b[38;5;241m*\u001b[39m \u001b[38;5;28mself\u001b[39m\u001b[38;5;241m.\u001b[39mV[s_next])\n\u001b[1;32m     94\u001b[0m \u001b[38;5;28mself\u001b[39m\u001b[38;5;241m.\u001b[39mV[state] \u001b[38;5;241m=\u001b[39m value\n\u001b[1;32m     95\u001b[0m delta \u001b[38;5;241m=\u001b[39m \u001b[38;5;28mmax\u001b[39m(delta, \u001b[38;5;28mabs\u001b[39m(v \u001b[38;5;241m-\u001b[39m \u001b[38;5;28mself\u001b[39m\u001b[38;5;241m.\u001b[39mV[state]))\n",
      "File \u001b[0;32m~/work/esgi/4IABD/deep-reinforcement-learning/deep-reinforcement-learning-4iabd/secret_envs_wrapper.py:120\u001b[0m, in \u001b[0;36mSecretEnv0.reward\u001b[0;34m(self, i)\u001b[0m\n\u001b[1;32m    117\u001b[0m \u001b[38;5;28;01mdef\u001b[39;00m \u001b[38;5;21mnum_rewards\u001b[39m(\u001b[38;5;28mself\u001b[39m) \u001b[38;5;241m-\u001b[39m\u001b[38;5;241m>\u001b[39m \u001b[38;5;28mint\u001b[39m:\n\u001b[1;32m    118\u001b[0m     \u001b[38;5;28;01mreturn\u001b[39;00m \u001b[38;5;28mself\u001b[39m\u001b[38;5;241m.\u001b[39mwrapper\u001b[38;5;241m.\u001b[39mlib\u001b[38;5;241m.\u001b[39msecret_env_0_num_rewards()\n\u001b[0;32m--> 120\u001b[0m \u001b[38;5;28;01mdef\u001b[39;00m \u001b[38;5;21mreward\u001b[39m(\u001b[38;5;28mself\u001b[39m, i: \u001b[38;5;28mint\u001b[39m) \u001b[38;5;241m-\u001b[39m\u001b[38;5;241m>\u001b[39m \u001b[38;5;28mfloat\u001b[39m:\n\u001b[1;32m    121\u001b[0m     \u001b[38;5;28;01mreturn\u001b[39;00m \u001b[38;5;28mself\u001b[39m\u001b[38;5;241m.\u001b[39mwrapper\u001b[38;5;241m.\u001b[39mlib\u001b[38;5;241m.\u001b[39msecret_env_0_reward(i)\n\u001b[1;32m    123\u001b[0m \u001b[38;5;28;01mdef\u001b[39;00m \u001b[38;5;21mp\u001b[39m(\u001b[38;5;28mself\u001b[39m, s: \u001b[38;5;28mint\u001b[39m, a: \u001b[38;5;28mint\u001b[39m, s_p: \u001b[38;5;28mint\u001b[39m, r_index: \u001b[38;5;28mint\u001b[39m) \u001b[38;5;241m-\u001b[39m\u001b[38;5;241m>\u001b[39m \u001b[38;5;28mfloat\u001b[39m:\n",
      "\u001b[0;31mKeyboardInterrupt\u001b[0m: "
     ]
    }
   ],
   "source": [
    "import pickle\n",
    "from dynamic_programming import PolicyIteration\n",
    "from secret_envs_wrapper import SecretEnv0\n",
    "gamma = 0.999\n",
    "theta = 1e-6\n",
    "max_iterations = 5\n",
    "env = SecretEnv0()\n",
    "\n",
    "agent = PolicyIteration(env, gamma=gamma, theta=theta, max_iterations=max_iterations)\n",
    "best_policy = agent.run()\n",
    "\n",
    "print(\"Best policy:\")\n",
    "with open(\"./pckl/secret0/volicyalue_iteration.pkl\", \"wb\") as f:\n",
    "    pickle.dump(best_policy, f)"
   ]
  },
  {
   "cell_type": "code",
   "execution_count": 3,
   "metadata": {},
   "outputs": [
    {
     "name": "stderr",
     "output_type": "stream",
     "text": [
      "2024-07-24 10:58:35,557 - INFO - Initialized SarsaAgent with alpha=0.1, gamma=0.999, epsilon=0.1, num_episodes=10\n",
      "2024-07-24 10:58:35,558 - INFO - Starting training\n",
      "2024-07-24 10:58:35,560 - INFO - Episode 1 completed with final score: -9.0, Best score: -inf\n",
      "2024-07-24 10:58:35,561 - INFO - Generating policy from Q-values\n",
      "2024-07-24 10:58:35,634 - INFO - New best policy found with score: -9.0\n",
      "2024-07-24 10:58:35,636 - INFO - Episode 2 completed with final score: -9.0, Best score: -9.0\n",
      "2024-07-24 10:58:35,638 - INFO - Episode 3 completed with final score: -5.0, Best score: -9.0\n",
      "2024-07-24 10:58:35,638 - INFO - Generating policy from Q-values\n",
      "2024-07-24 10:58:35,687 - INFO - New best policy found with score: -5.0\n",
      "2024-07-24 10:58:35,689 - INFO - Episode 4 completed with final score: -5.0, Best score: -5.0\n",
      "2024-07-24 10:58:35,690 - INFO - Episode 5 completed with final score: -3.0, Best score: -5.0\n",
      "2024-07-24 10:58:35,691 - INFO - Generating policy from Q-values\n",
      "2024-07-24 10:58:35,737 - INFO - New best policy found with score: -3.0\n",
      "2024-07-24 10:58:35,738 - INFO - Episode 6 completed with final score: -2.0, Best score: -3.0\n",
      "2024-07-24 10:58:35,738 - INFO - Generating policy from Q-values\n",
      "2024-07-24 10:58:35,787 - INFO - New best policy found with score: -2.0\n",
      "2024-07-24 10:58:35,789 - INFO - Episode 7 completed with final score: -1.0, Best score: -2.0\n",
      "2024-07-24 10:58:35,789 - INFO - Generating policy from Q-values\n",
      "2024-07-24 10:58:35,836 - INFO - New best policy found with score: -1.0\n",
      "2024-07-24 10:58:35,838 - INFO - Episode 8 completed with final score: -3.0, Best score: -1.0\n",
      "2024-07-24 10:58:35,840 - INFO - Episode 9 completed with final score: 1.0, Best score: -1.0\n",
      "2024-07-24 10:58:35,840 - INFO - Generating policy from Q-values\n",
      "2024-07-24 10:58:35,888 - INFO - New best policy found with score: 1.0\n",
      "2024-07-24 10:58:35,890 - INFO - Episode 10 completed with final score: 1.0, Best score: 1.0\n",
      "2024-07-24 10:58:35,890 - INFO - Training completed\n"
     ]
    }
   ],
   "source": [
    "from temporal_difference_learning import Sarsa\n",
    "from secret_envs_wrapper import SecretEnv0\n",
    "import pickle\n",
    "\n",
    "env = SecretEnv0()\n",
    "epsilon = 0.1\n",
    "gamma = 0.999\n",
    "alpha = 0.1\n",
    "num_episodes = 10\n",
    "sarsa_agent = Sarsa(\n",
    "    env, alpha=alpha, gamma=gamma, epsilon=epsilon, num_episodes=num_episodes\n",
    ")\n",
    "best_policy = sarsa_agent.train()\n",
    "# save the policy\n",
    "with open(\"./pckl/secret0/sarsa.pkl\", \"wb\") as f:\n",
    "    pickle.dump(best_policy, f)"
   ]
  },
  {
   "cell_type": "code",
   "execution_count": null,
   "metadata": {},
   "outputs": [],
   "source": [
    "from planning import QLearning\n",
    "\n",
    "alpha = 0.1\n",
    "num_episodes = 1000\n",
    "q_learning = QLearning(env, alpha=alpha, gamma=gamma, epsilon=epsilon)\n",
    "\n",
    "q_learning.train(num_episodes)\n",
    "\n",
    "print(\"Table Q apprise par Q-Learning:\")\n",
    "print(q_learning.get_q_table())\n",
    "\n",
    "# save the policy\n",
    "with open(\"./pckl/secret0/q_learning.pkl\", \"wb\") as f:\n",
    "    pickle.dump(q_learning.get_q_table(), f)"
   ]
  },
  {
   "cell_type": "code",
   "execution_count": null,
   "metadata": {},
   "outputs": [],
   "source": [
    "import pickle\n",
    "from planning import DynaQ\n",
    "from secret_envs_wrapper import SecretEnv0\n",
    "\n",
    "env = SecretEnv0()\n",
    "\n",
    "agent = DynaQ(env, alpha=0.1, gamma=0.95, epsilon=0.1, dyna_planning_steps=10)\n",
    "\n",
    "initial_state = env.state_id()\n",
    "num_episodes = 1000\n",
    "best_policy = agent.train(num_episodes)\n",
    "print(\"Best policy:\")\n",
    "with open(\"./pckl/secret0/dyna_q.pkl\", \"wb\") as f:\n",
    "    pickle.dump(best_policy, f)"
   ]
  }
 ],
 "metadata": {
  "kernelspec": {
   "display_name": ".venv",
   "language": "python",
   "name": "python3"
  },
  "language_info": {
   "codemirror_mode": {
    "name": "ipython",
    "version": 3
   },
   "file_extension": ".py",
   "mimetype": "text/x-python",
   "name": "python",
   "nbconvert_exporter": "python",
   "pygments_lexer": "ipython3",
   "version": "3.12.1"
  }
 },
 "nbformat": 4,
 "nbformat_minor": 2
}
