{
 "cells": [
  {
   "cell_type": "code",
   "execution_count": 1,
   "metadata": {},
   "outputs": [
    {
     "name": "stderr",
     "output_type": "stream",
     "text": [
      "100%|██████████| 10000/10000 [00:02<00:00, 4762.83it/s]\n"
     ]
    }
   ],
   "source": [
    "import pickle\n",
    "from env import TwoRoundRockPaperScissors\n",
    "from monte_carlo import on_policy_first_visit_mc_control\n",
    "\n",
    "\n",
    "# Example usage\n",
    "env_type = TwoRoundRockPaperScissors  # Replace with your environment class\n",
    "gamma = 0.999\n",
    "nb_iter = 10000\n",
    "max_steps = 10\n",
    "epsilon = 0.1\n",
    "\n",
    "Pi = on_policy_first_visit_mc_control(\n",
    "    env_type, gamma, nb_iter, max_steps, epsilon\n",
    ")\n",
    "\n",
    "with open(\"./pckl/rock_paper/on_policy_first_visit_mc_control.pkl\", \"wb\") as f:\n",
    "    pickle.dump(Pi, f)"
   ]
  },
  {
   "cell_type": "code",
   "execution_count": 2,
   "metadata": {},
   "outputs": [
    {
     "name": "stderr",
     "output_type": "stream",
     "text": [
      "100%|██████████| 10000/10000 [00:00<00:00, 19993.09it/s]\n"
     ]
    }
   ],
   "source": [
    "import pickle\n",
    "from env import TwoRoundRockPaperScissors\n",
    "from monte_carlo import off_policy_mc_control\n",
    "\n",
    "\n",
    "# Example usage\n",
    "env_type = TwoRoundRockPaperScissors  # Replace with your environment class\n",
    "gamma = 0.999\n",
    "nb_iter = 10000\n",
    "max_steps = 10\n",
    "epsilon = 0.1\n",
    "\n",
    "Pi = off_policy_mc_control(\n",
    "    env_type, gamma, nb_iter, max_steps, epsilon\n",
    ")\n",
    "\n",
    "with open(\"./pckl/rock_paper/off_policy_mc_control.pkl\", \"wb\") as f:\n",
    "    pickle.dump(Pi, f)"
   ]
  },
  {
   "cell_type": "code",
   "execution_count": 3,
   "metadata": {},
   "outputs": [
    {
     "name": "stderr",
     "output_type": "stream",
     "text": [
      "100%|██████████| 10000/10000 [00:01<00:00, 8312.40it/s]\n"
     ]
    }
   ],
   "source": [
    "import pickle\n",
    "from env import TwoRoundRockPaperScissors\n",
    "from monte_carlo import naive_monte_carlo_with_exploring_starts\n",
    "\n",
    "\n",
    "# Example usage\n",
    "env_type = TwoRoundRockPaperScissors  # Replace with your environment class\n",
    "gamma = 0.999\n",
    "nb_iter = 10000\n",
    "max_steps = 10\n",
    "\n",
    "Pi = naive_monte_carlo_with_exploring_starts(\n",
    "    env_type, gamma, nb_iter, max_steps\n",
    ")\n",
    "\n",
    "with open(\"./pckl/rock_paper/naive_monte_carlo_with_exploring_starts.pkl\", \"wb\") as f:\n",
    "    pickle.dump(Pi, f)"
   ]
  },
  {
   "cell_type": "code",
   "execution_count": 4,
   "metadata": {},
   "outputs": [
    {
     "ename": "TypeError",
     "evalue": "'NoneType' object cannot be interpreted as an integer",
     "output_type": "error",
     "traceback": [
      "\u001b[0;31m---------------------------------------------------------------------------\u001b[0m",
      "\u001b[0;31mTypeError\u001b[0m                                 Traceback (most recent call last)",
      "Cell \u001b[0;32mIn[4], line 10\u001b[0m\n\u001b[1;32m      7\u001b[0m max_iterations \u001b[38;5;241m=\u001b[39m \u001b[38;5;241m1000\u001b[39m\n\u001b[1;32m      8\u001b[0m env \u001b[38;5;241m=\u001b[39m TwoRoundRockPaperScissors()\n\u001b[0;32m---> 10\u001b[0m agent \u001b[38;5;241m=\u001b[39m \u001b[43mValueIteration\u001b[49m\u001b[43m(\u001b[49m\u001b[43menv\u001b[49m\u001b[43m,\u001b[49m\u001b[43m \u001b[49m\u001b[43mgamma\u001b[49m\u001b[38;5;241;43m=\u001b[39;49m\u001b[43mgamma\u001b[49m\u001b[43m,\u001b[49m\u001b[43m \u001b[49m\u001b[43mtheta\u001b[49m\u001b[38;5;241;43m=\u001b[39;49m\u001b[43mtheta\u001b[49m\u001b[43m,\u001b[49m\u001b[43m \u001b[49m\u001b[43mmax_iterations\u001b[49m\u001b[38;5;241;43m=\u001b[39;49m\u001b[43mmax_iterations\u001b[49m\u001b[43m)\u001b[49m\n\u001b[1;32m     11\u001b[0m best_policy \u001b[38;5;241m=\u001b[39m agent\u001b[38;5;241m.\u001b[39mrun()\n\u001b[1;32m     13\u001b[0m \u001b[38;5;28mprint\u001b[39m(\u001b[38;5;124m\"\u001b[39m\u001b[38;5;124mBest policy:\u001b[39m\u001b[38;5;124m\"\u001b[39m)\n",
      "File \u001b[0;32m~/work/esgi/4IABD/deep-reinforcement-learning/deep-reinforcement-learning-4iabd/dynamic_programming.py:26\u001b[0m, in \u001b[0;36mDynamicProgramming.__init__\u001b[0;34m(self, env, gamma, theta, max_iterations)\u001b[0m\n\u001b[1;32m     24\u001b[0m \u001b[38;5;28mself\u001b[39m\u001b[38;5;241m.\u001b[39mtheta \u001b[38;5;241m=\u001b[39m theta\n\u001b[1;32m     25\u001b[0m \u001b[38;5;28mself\u001b[39m\u001b[38;5;241m.\u001b[39mmax_iterations \u001b[38;5;241m=\u001b[39m max_iterations\n\u001b[0;32m---> 26\u001b[0m \u001b[38;5;28mself\u001b[39m\u001b[38;5;241m.\u001b[39mstate_ids \u001b[38;5;241m=\u001b[39m \u001b[38;5;28;43mrange\u001b[39;49m\u001b[43m(\u001b[49m\u001b[38;5;28;43mself\u001b[39;49m\u001b[38;5;241;43m.\u001b[39;49m\u001b[43menv\u001b[49m\u001b[38;5;241;43m.\u001b[39;49m\u001b[43mnum_states\u001b[49m\u001b[43m(\u001b[49m\u001b[43m)\u001b[49m\u001b[43m)\u001b[49m\n\u001b[1;32m     27\u001b[0m \u001b[38;5;28mself\u001b[39m\u001b[38;5;241m.\u001b[39mactions \u001b[38;5;241m=\u001b[39m \u001b[38;5;28mrange\u001b[39m(\u001b[38;5;28mself\u001b[39m\u001b[38;5;241m.\u001b[39menv\u001b[38;5;241m.\u001b[39mnum_actions())\n\u001b[1;32m     28\u001b[0m \u001b[38;5;28mself\u001b[39m\u001b[38;5;241m.\u001b[39mV \u001b[38;5;241m=\u001b[39m np\u001b[38;5;241m.\u001b[39mzeros(\u001b[38;5;28mself\u001b[39m\u001b[38;5;241m.\u001b[39menv\u001b[38;5;241m.\u001b[39mnum_states())\n",
      "\u001b[0;31mTypeError\u001b[0m: 'NoneType' object cannot be interpreted as an integer"
     ]
    }
   ],
   "source": [
    "import pickle\n",
    "from dynamic_programming import ValueIteration\n",
    "from env import TwoRoundRockPaperScissors\n",
    "\n",
    "gamma = 0.999\n",
    "theta = 1e-6\n",
    "max_iterations = 1000\n",
    "env = TwoRoundRockPaperScissors()\n",
    "\n",
    "agent = ValueIteration(env, gamma=gamma, theta=theta, max_iterations=max_iterations)\n",
    "best_policy = agent.run()\n",
    "\n",
    "print(\"Best policy:\")\n",
    "with open(\"./pckl/rock_paper/value_iteration.pkl\", \"wb\") as f:\n",
    "    pickle.dump(best_policy, f)"
   ]
  },
  {
   "cell_type": "code",
   "execution_count": null,
   "metadata": {},
   "outputs": [],
   "source": [
    "import pickle\n",
    "from dynamic_programming import PolicyIteration\n",
    "from env import TwoRoundRockPaperScissors\n",
    "gamma = 0.999\n",
    "theta = 1e-6\n",
    "max_iterations = 1000\n",
    "env = TwoRoundRockPaperScissors()\n",
    "\n",
    "agent = PolicyIteration(env, gamma=gamma, theta=theta, max_iterations=max_iterations)\n",
    "best_policy = agent.run()\n",
    "\n",
    "print(\"Best policy:\")\n",
    "with open(\"./pckl/rock_paper/volicyalue_iteration.pkl\", \"wb\") as f:\n",
    "    pickle.dump(best_policy, f)"
   ]
  },
  {
   "cell_type": "code",
   "execution_count": null,
   "metadata": {},
   "outputs": [],
   "source": [
    "from temporal_difference_learning import Sarsa\n",
    "\n",
    "alpha = 0.1\n",
    "num_episodes = 1000\n",
    "sarsa_agent = Sarsa(\n",
    "    env, alpha=alpha, gamma=gamma, epsilon=epsilon, num_episodes=num_episodes\n",
    ")\n",
    "best_policy = sarsa_agent.train()\n",
    "# save the policy\n",
    "with open(\"./pckl/rock_paper/sarsa.pkl\", \"wb\") as f:\n",
    "    pickle.dump(best_policy, f)"
   ]
  },
  {
   "cell_type": "code",
   "execution_count": null,
   "metadata": {},
   "outputs": [],
   "source": [
    "from planning import QLearning\n",
    "\n",
    "alpha = 0.1\n",
    "num_episodes = 1000\n",
    "q_learning = QLearning(env, alpha=alpha, gamma=gamma, epsilon=epsilon)\n",
    "\n",
    "q_learning.train(num_episodes)\n",
    "\n",
    "print(\"Table Q apprise par Q-Learning:\")\n",
    "print(q_learning.get_q_table())\n",
    "\n",
    "# save the policy\n",
    "with open(\"./pckl/rock_paper/q_learning.pkl\", \"wb\") as f:\n",
    "    pickle.dump(q_learning.get_q_table(), f)"
   ]
  },
  {
   "cell_type": "code",
   "execution_count": null,
   "metadata": {},
   "outputs": [],
   "source": [
    "from planning import DynaQ\n",
    "\n",
    "agent = DynaQ(env, alpha=0.1, gamma=0.95, epsilon=0.1, dyna_planning_steps=10)\n",
    "\n",
    "initial_state = env.state_id()\n",
    "num_episodes = 1000\n",
    "best_policy = agent.train(num_episodes)\n",
    "print(\"Best policy:\")\n",
    "with open(\"./pckl/rock_paper/dyna_q.pkl\", \"wb\") as f:\n",
    "    pickle.dump(best_policy, f)"
   ]
  }
 ],
 "metadata": {
  "kernelspec": {
   "display_name": ".venv",
   "language": "python",
   "name": "python3"
  },
  "language_info": {
   "codemirror_mode": {
    "name": "ipython",
    "version": 3
   },
   "file_extension": ".py",
   "mimetype": "text/x-python",
   "name": "python",
   "nbconvert_exporter": "python",
   "pygments_lexer": "ipython3",
   "version": "3.12.1"
  }
 },
 "nbformat": 4,
 "nbformat_minor": 2
}
